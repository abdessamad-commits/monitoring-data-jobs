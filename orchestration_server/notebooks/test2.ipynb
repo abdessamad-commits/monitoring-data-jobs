{
 "cells": [
  {
   "cell_type": "code",
   "execution_count": 19,
   "metadata": {},
   "outputs": [],
   "source": [
    "from selenium import webdriver\n",
    "from selenium.webdriver.common.by import By\n",
    "import time\n",
    "import contextlib"
   ]
  },
  {
   "cell_type": "code",
   "execution_count": 23,
   "metadata": {},
   "outputs": [
    {
     "name": "stderr",
     "output_type": "stream",
     "text": [
      "/var/folders/s7/50grnj415hqfsfwrxl886mdr0000gn/T/ipykernel_3970/2256551328.py:1: DeprecationWarning: executable_path has been deprecated, please pass in a Service object\n",
      "  webdriver = webdriver.Chrome(\"/Users/abdessamadbaahmed/Desktop/boxing_future_prodigies/chromedriver\")\n"
     ]
    }
   ],
   "source": [
    "#webdriver = webdriver.Chrome(\"/Users/abdessamadbaahmed/Desktop/boxing_future_prodigies/chromedriver\")"
   ]
  },
  {
   "cell_type": "code",
   "execution_count": 28,
   "metadata": {},
   "outputs": [],
   "source": [
    "job = \"Data scientist\"\n",
    "location = \"France\"\n",
    "from_last_days = 3\n",
    "webdriver.get(f\"https://fr.indeed.com/jobs?q={job}&l={location}&fromage={from_last_days}&vjk=f25fd64c4d687de6\")\n",
    "time.sleep(3)"
   ]
  },
  {
   "cell_type": "code",
   "execution_count": 42,
   "metadata": {},
   "outputs": [],
   "source": [
    "with contextlib.suppress(Exception):\n",
    "    webdriver.find_element(By.ID, \"onetrust-reject-all-handler\").click()"
   ]
  },
  {
   "cell_type": "code",
   "execution_count": 43,
   "metadata": {},
   "outputs": [
    {
     "data": {
      "text/plain": [
       "(6, 15)"
      ]
     },
     "execution_count": 43,
     "metadata": {},
     "output_type": "execute_result"
    }
   ],
   "source": [
    "pages = webdriver.find_elements(By.CLASS_NAME, \"css-tvvxwd ecydgvn1\".replace(\" \", \".\"))\n",
    "jobs_offers = webdriver.find_elements(By.CLASS_NAME, \"slider_container css-g7s71f eu4oa1w0\".replace(\" \", \".\"))\n",
    "len(pages), len(jobs_offers)"
   ]
  },
  {
   "cell_type": "code",
   "execution_count": 44,
   "metadata": {},
   "outputs": [],
   "source": [
    "data = []\n",
    "for job_offer in jobs_offers:\n",
    "    try:\n",
    "        data.append(webdriver.find_element(By.ID, \"jobDescriptionText\").text)\n",
    "        job_offer.click()\n",
    "        time.sleep(2)\n",
    "    except:\n",
    "        print(\"Error\")"
   ]
  },
  {
   "cell_type": "code",
   "execution_count": 45,
   "metadata": {},
   "outputs": [
    {
     "data": {
      "text/plain": [
       "15"
      ]
     },
     "execution_count": 45,
     "metadata": {},
     "output_type": "execute_result"
    }
   ],
   "source": [
    "len(data)"
   ]
  },
  {
   "cell_type": "code",
   "execution_count": null,
   "metadata": {},
   "outputs": [],
   "source": []
  }
 ],
 "metadata": {
  "kernelspec": {
   "display_name": "Python 3",
   "language": "python",
   "name": "python3"
  },
  "language_info": {
   "codemirror_mode": {
    "name": "ipython",
    "version": 3
   },
   "file_extension": ".py",
   "mimetype": "text/x-python",
   "name": "python",
   "nbconvert_exporter": "python",
   "pygments_lexer": "ipython3",
   "version": "3.10.6 (v3.10.6:9c7b4bd164, Aug  1 2022, 17:13:48) [Clang 13.0.0 (clang-1300.0.29.30)]"
  },
  "orig_nbformat": 4,
  "vscode": {
   "interpreter": {
    "hash": "aee8b7b246df8f9039afb4144a1f6fd8d2ca17a180786b69acc140d282b71a49"
   }
  }
 },
 "nbformat": 4,
 "nbformat_minor": 2
}
