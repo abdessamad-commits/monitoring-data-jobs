{
 "cells": [
  {
   "cell_type": "code",
   "execution_count": 82,
   "metadata": {},
   "outputs": [],
   "source": [
    "from selenium import webdriver\n",
    "from selenium.webdriver.common.by import By\n",
    "import time"
   ]
  },
  {
   "cell_type": "code",
   "execution_count": 83,
   "metadata": {},
   "outputs": [
    {
     "name": "stderr",
     "output_type": "stream",
     "text": [
      "/var/folders/s7/50grnj415hqfsfwrxl886mdr0000gn/T/ipykernel_900/2031139169.py:1: DeprecationWarning: executable_path has been deprecated, please pass in a Service object\n",
      "  webdriver = webdriver.Chrome(\"/Users/abdessamadbaahmed/Desktop/boxing_future_prodigies/chromedriver\")\n"
     ]
    }
   ],
   "source": [
    "webdriver = webdriver.Chrome(\"/Users/abdessamadbaahmed/Desktop/boxing_future_prodigies/chromedriver\")\n",
    "webdriver.get(\"https://fr.indeed.com/\")"
   ]
  },
  {
   "cell_type": "code",
   "execution_count": 98,
   "metadata": {},
   "outputs": [],
   "source": [
    "job = \"Data scientist\"\n",
    "location = \"France\"\n",
    "from_last_days = 3\n",
    "webdriver.get(f\"https://fr.indeed.com/jobs?q={job}&l={location}&fromage={from_last_days}&vjk=f25fd64c4d687de6\")"
   ]
  },
  {
   "cell_type": "code",
   "execution_count": 18,
   "metadata": {},
   "outputs": [
    {
     "data": {
      "text/plain": [
       "<selenium.webdriver.remote.webelement.WebElement (session=\"8a58ead68a51b522a581efe4fba4d7c4\", element=\"e1069e69-2cb7-4bf1-bb15-a2e708e7f9e8\")>"
      ]
     },
     "execution_count": 18,
     "metadata": {},
     "output_type": "execute_result"
    }
   ],
   "source": [
    "webdriver.find_element(By.ID, \"sj_68453b5a8d14d05f\".replace(\" \", \".\"))"
   ]
  },
  {
   "cell_type": "code",
   "execution_count": 23,
   "metadata": {},
   "outputs": [
    {
     "data": {
      "text/plain": [
       "['Data Scientist IA F/H',\n",
       " '- job post',\n",
       " 'DCS EASYWARE - DCIST',\n",
       " '23 avis',\n",
       " 'Rennes (35)•Télétravail hybride',\n",
       " 'Temps plein, CDI',\n",
       " \"Créez un compte Indeed avant de continuer sur le site web de l'entreprise.\",\n",
       " 'Continuer pour postuler']"
      ]
     },
     "execution_count": 23,
     "metadata": {},
     "output_type": "execute_result"
    }
   ],
   "source": [
    "webdriver.find_element(By.CLASS_NAME, \"jobsearch-JobComponent-embeddedHeader\".replace(\" \", \".\")).text.split(\"\\n\")"
   ]
  },
  {
   "cell_type": "code",
   "execution_count": 26,
   "metadata": {},
   "outputs": [],
   "source": [
    "job_offer = webdriver.find_element(By.ID, \"jobDescriptionText\").text    "
   ]
  },
  {
   "cell_type": "code",
   "execution_count": 28,
   "metadata": {},
   "outputs": [],
   "source": [
    "# main technologies used in data science field\n",
    "technologies = [\"python\", \"r\", \"sql\", \"tableau\", \"excel\", \"sas\", \"spark\", \"hadoop\", \"tensorflow\", \"keras\", \"pytorch\", \"scikit-learn\", \"numpy\", \"pandas\", \"matplotlib\", \"seaborn\", \"plotly\", \"dash\", \"bokeh\", \"scipy\", \"statsmodels\", \"scrapy\", \"nltk\", \"spacy\", \"gensim\", \"tensorflow\", \"keras\", \"pytorch\", \"scikit-learn\", \"numpy\", \"pandas\", \"matplotlib\", \"seaborn\", \"plotly\", \"dash\", \"bokeh\", \"scipy\", \"statsmodels\", \"scrapy\", \"nltk\", \"spacy\", \"gensim\", \"tensorflow\", \"keras\", \"pytorch\", \"scikit-learn\", \"numpy\", \"pandas\", \"matplotlib\", \"seaborn\", \"plotly\", \"dash\", \"bokeh\", \"scipy\", \"statsmodels\", \"scrapy\", \"nltk\", \"spacy\", \"gensim\", \"tensorflow\", \"keras\", \"pytorch\", \"scikit-learn\", \"numpy\", \"pandas\", \"matplotlib\", \"seaborn\", \"plotly\", \"dash\", \"bokeh\", \"scipy\", \"statsmodels\", \"scrapy\", \"nltk\", \"spacy\", \"gensim\", \"tensorflow\", \"keras\", \"pytorch\", \"scikit-learn\", \"numpy\", \"pandas\", \"matplotlib\", \"seaborn\", \"plotly\", \"dash\", \"bokeh\", \"scipy\", \"statsmodels\", \"scrapy\", \"nltk\", \"spacy\", \"gensim\", \"tensorflow\", \"keras\", \"pytorch\", \"scikit-learn\", \"numpy\", \"pandas\", \"matplotlib\", \"seaborn\", \"plotly\", \"dash\", \"bokeh\", \"scipy\", \"statsmodels\", \"scrapy\", \"nltk\", \"spacy\", \"gensim\", \"tensorflow\", \"keras\", \"pytorch\", \"scikit-learn\", \"numpy\", \"pandas\", \"matplotlib\", \"seaborn\", \"plotly\", \"dash\", \"bokeh\", \"scipy\", \"statsmodels\", \"scrapy\", \"nltk\", \"spacy\", \"gensim\"]"
   ]
  },
  {
   "cell_type": "code",
   "execution_count": 30,
   "metadata": {},
   "outputs": [],
   "source": [
    "# a function that takes as input a list of technologies and a text and returns the number of times each technology appears in the text\n",
    "technologies = [\"python\", \"r\", \"sql\", \"tableau\", \"excel\", \"sas\", \"spark\", \"hadoop\", \"tensorflow\", \"keras\", \"pytorch\", \"scikit-learn\", \"numpy\", \"pandas\", \"matplotlib\", \"seaborn\", \"plotly\", \"dash\", \"bokeh\", \"scipy\", \"statsmodels\", \"scrapy\", \"nltk\", \"spacy\", \"gensim\", \"tensorflow\", \"keras\", \"pytorch\", \"scikit-learn\", \"numpy\", \"pandas\", \"matplotlib\", \"seaborn\", \"plotly\", \"dash\", \"bokeh\", \"scipy\", \"statsmodels\", \"scrapy\", \"nltk\", \"spacy\", \"gensim\", \"tensorflow\", \"keras\", \"pytorch\", \"scikit-learn\", \"numpy\", \"pandas\", \"matplotlib\", \"seaborn\", \"plotly\", \"dash\", \"bokeh\", \"scipy\", \"statsmodels\", \"scrapy\", \"nltk\", \"spacy\", \"gensim\", \"tensorflow\", \"keras\", \"pytorch\", \"scikit-learn\", \"numpy\", \"pandas\", \"matplotlib\", \"seaborn\", \"plotly\", \"dash\", \"bokeh\", \"scipy\", \"statsmodels\", \"scrapy\", \"nltk\", \"spacy\", \"gensim\", \"tensorflow\", \"keras\", \"pytorch\", \"scikit-learn\", \"numpy\", \"pandas\", \"matplotlib\", \"seaborn\", \"plotly\", \"dash\", \"bokeh\", \"scipy\", \"statsmodels\", \"scrapy\", \"nltk\", \"spacy\", \"gensim\", \"tensorflow\", \"keras\", \"pytorch\", \"scikit-learn\", \"numpy\", \"pandas\", \"matplotlib\", \"seaborn\", \"plotly\", \"dash\", \"bokeh\", \"scipy\", \"statsmodels\", \"scrapy\", \"nltk\", \"spacy\", \"gensim\", \"tensorflow\", \"keras\", \"pytorch\", \"scikit-learn\", \"numpy\", \"pandas\", \"matplotlib\", \"seaborn\", \"plotly\", \"dash\", \"bokeh\", \"scipy\", \"statsmodels\", \"scrapy\", \"nltk\", \"spacy\", \"gensim\"]\n",
    "def count_technologies(text, technologies):\n",
    "    # sourcery skip: dict-comprehension, inline-immediately-returned-variable\n",
    "    count = {}\n",
    "    for technology in technologies:\n",
    "        count[technology] = text.lower().split(\" \").count(technology)\n",
    "    return count"
   ]
  },
  {
   "cell_type": "code",
   "execution_count": 31,
   "metadata": {},
   "outputs": [
    {
     "data": {
      "text/plain": [
       "{'python': 1,\n",
       " 'r': 0,\n",
       " 'sql': 0,\n",
       " 'tableau': 0,\n",
       " 'excel': 0,\n",
       " 'sas': 0,\n",
       " 'spark': 0,\n",
       " 'hadoop': 0,\n",
       " 'tensorflow': 0,\n",
       " 'keras': 0,\n",
       " 'pytorch': 0,\n",
       " 'scikit-learn': 0,\n",
       " 'numpy': 0,\n",
       " 'pandas': 0,\n",
       " 'matplotlib': 0,\n",
       " 'seaborn': 0,\n",
       " 'plotly': 0,\n",
       " 'dash': 0,\n",
       " 'bokeh': 0,\n",
       " 'scipy': 0,\n",
       " 'statsmodels': 0,\n",
       " 'scrapy': 0,\n",
       " 'nltk': 0,\n",
       " 'spacy': 0,\n",
       " 'gensim': 0}"
      ]
     },
     "execution_count": 31,
     "metadata": {},
     "output_type": "execute_result"
    }
   ],
   "source": [
    "count_technologies(job_offer, technologies)"
   ]
  },
  {
   "cell_type": "code",
   "execution_count": 85,
   "metadata": {},
   "outputs": [],
   "source": [
    "jobs_offers = webdriver.find_elements(By.CLASS_NAME, \"slider_container css-g7s71f eu4oa1w0\".replace(\" \", \".\"))"
   ]
  },
  {
   "cell_type": "code",
   "execution_count": 108,
   "metadata": {},
   "outputs": [],
   "source": [
    "job = \"Data scientist\"\n",
    "location = \"France\"\n",
    "from_last_days = 3\n",
    "webdriver.get(f\"https://fr.indeed.com/jobs?q={job}&l={location}&fromage={from_last_days}&vjk=f25fd64c4d687de6\")"
   ]
  },
  {
   "cell_type": "code",
   "execution_count": 110,
   "metadata": {},
   "outputs": [],
   "source": [
    "import contextlib\n",
    "\n",
    "data = []\n",
    "\n",
    "for page in webdriver.find_elements(By.CLASS_NAME, \"css-tvvxwd ecydgvn1\".replace(\" \", \".\")):\n",
    "    with contextlib.suppress(Exception):\n",
    "        for job_offer in webdriver.find_elements(By.CLASS_NAME, \"slider_container css-g7s71f eu4oa1w0\".replace(\" \", \".\")):\n",
    "            with contextlib.suppress(Exception):\n",
    "                data.append(webdriver.find_element(By.ID, \"jobDescriptionText\").text)\n",
    "                job_offer.click()   \n",
    "                time.sleep(3)\n",
    "        time.sleep(3)\n",
    "        page.click()"
   ]
  },
  {
   "cell_type": "code",
   "execution_count": 107,
   "metadata": {},
   "outputs": [
    {
     "data": {
      "text/plain": [
       "[<selenium.webdriver.remote.webelement.WebElement (session=\"cc2e72b6290a5351a132e1e806cdb5cc\", element=\"3d1e59d8-c424-42b2-bc75-d52d310d6c6c\")>,\n",
       " <selenium.webdriver.remote.webelement.WebElement (session=\"cc2e72b6290a5351a132e1e806cdb5cc\", element=\"7483eaf9-774f-450c-8fea-d33ca09dfb5d\")>,\n",
       " <selenium.webdriver.remote.webelement.WebElement (session=\"cc2e72b6290a5351a132e1e806cdb5cc\", element=\"60b99d85-1204-4419-86f8-8a2d5daffe34\")>,\n",
       " <selenium.webdriver.remote.webelement.WebElement (session=\"cc2e72b6290a5351a132e1e806cdb5cc\", element=\"0da790f3-8076-4dda-b1d5-7c8b24a687fb\")>,\n",
       " <selenium.webdriver.remote.webelement.WebElement (session=\"cc2e72b6290a5351a132e1e806cdb5cc\", element=\"b155dc2f-95a4-4645-831c-61aee0e5f4a5\")>,\n",
       " <selenium.webdriver.remote.webelement.WebElement (session=\"cc2e72b6290a5351a132e1e806cdb5cc\", element=\"4688257b-c6e4-4c62-95af-9dda82e5bde3\")>,\n",
       " <selenium.webdriver.remote.webelement.WebElement (session=\"cc2e72b6290a5351a132e1e806cdb5cc\", element=\"3e0ee16f-8793-4ba1-8108-f9d5c78d59af\")>]"
      ]
     },
     "execution_count": 107,
     "metadata": {},
     "output_type": "execute_result"
    }
   ],
   "source": [
    "pages = webdriver.find_elements(By.CLASS_NAME, \"css-tvvxwd ecydgvn1\".replace(\" \", \".\"))\n",
    "pages"
   ]
  },
  {
   "cell_type": "code",
   "execution_count": 106,
   "metadata": {},
   "outputs": [
    {
     "data": {
      "text/plain": [
       "30"
      ]
     },
     "execution_count": 106,
     "metadata": {},
     "output_type": "execute_result"
    }
   ],
   "source": [
    "len(data)"
   ]
  },
  {
   "cell_type": "code",
   "execution_count": null,
   "metadata": {},
   "outputs": [],
   "source": []
  }
 ],
 "metadata": {
  "kernelspec": {
   "display_name": "base",
   "language": "python",
   "name": "python3"
  },
  "language_info": {
   "codemirror_mode": {
    "name": "ipython",
    "version": 3
   },
   "file_extension": ".py",
   "mimetype": "text/x-python",
   "name": "python",
   "nbconvert_exporter": "python",
   "pygments_lexer": "ipython3",
   "version": "3.9.12 (main, Apr  5 2022, 01:53:17) \n[Clang 12.0.0 ]"
  },
  "orig_nbformat": 4,
  "vscode": {
   "interpreter": {
    "hash": "b7fae2f4fd5457b2ff27ae608168be903d1b5702f5e2e5c101370712120fb306"
   }
  }
 },
 "nbformat": 4,
 "nbformat_minor": 2
}
